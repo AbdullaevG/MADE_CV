{
 "cells": [
  {
   "cell_type": "markdown",
   "metadata": {},
   "source": [
    "# Академия MADE\n",
    "## Курс компьютерного зрения\n",
    "### Семинар 2: реализация ResNet\n",
    "\n",
    "#### План\n",
    "1. (Recap) Рутина обучения в PyTorch\n",
    "2. Реализация простой сети типа ResNet\n",
    "3. Проверка эффекта от BatchNormalization\n",
    "4. Проверка эффекта от residual-блоков\n",
    "5. ДЗ для любознательных"
   ]
  },
  {
   "cell_type": "code",
   "execution_count": 2,
   "metadata": {
    "execution": {
     "iopub.execute_input": "2022-07-22T20:31:06.006389Z",
     "iopub.status.busy": "2022-07-22T20:31:06.005812Z",
     "iopub.status.idle": "2022-07-22T20:31:06.017321Z",
     "shell.execute_reply": "2022-07-22T20:31:06.016094Z",
     "shell.execute_reply.started": "2022-07-22T20:31:06.006338Z"
    }
   },
   "outputs": [],
   "source": [
    "import sys\n",
    "sys.path.insert(1, \"../input/seminar-2\")"
   ]
  },
  {
   "cell_type": "code",
   "execution_count": 3,
   "metadata": {
    "execution": {
     "iopub.execute_input": "2022-07-22T20:31:08.271489Z",
     "iopub.status.busy": "2022-07-22T20:31:08.271093Z",
     "iopub.status.idle": "2022-07-22T20:31:11.022332Z",
     "shell.execute_reply": "2022-07-22T20:31:11.020847Z",
     "shell.execute_reply.started": "2022-07-22T20:31:08.271455Z"
    }
   },
   "outputs": [],
   "source": [
    "import tqdm\n",
    "import numpy as np\n",
    "import matplotlib.pyplot as plt\n",
    "\n",
    "import torch\n",
    "import torchvision\n",
    "import torchvision.transforms as transforms\n",
    "from torch import nn\n",
    "from torchvision.datasets import MNIST, CIFAR10\n",
    "from torch.utils.data import DataLoader\n",
    "from torchvision.transforms import ToTensor, Normalize, Compose\n",
    "from torch.optim import Adam\n",
    "from torch.nn.functional import cross_entropy, relu\n",
    "\n",
    "from utils import plot, show_kernels"
   ]
  },
  {
   "cell_type": "code",
   "execution_count": 4,
   "metadata": {
    "execution": {
     "iopub.execute_input": "2022-07-22T20:31:17.206770Z",
     "iopub.status.busy": "2022-07-22T20:31:17.205786Z",
     "iopub.status.idle": "2022-07-22T20:31:17.274991Z",
     "shell.execute_reply": "2022-07-22T20:31:17.273335Z",
     "shell.execute_reply.started": "2022-07-22T20:31:17.206733Z"
    }
   },
   "outputs": [],
   "source": [
    "# MNIST: 1x28x28\n",
    "# DATASET = \"MNIST\"\n",
    "\n",
    "# CIFAR10: 3x32x32\n",
    "DATASET = \"CIFAR10\"\n",
    "\n",
    "# DEVICE = \"cpu\"\n",
    "# DEVICE = \"cuda:0\"\n",
    "DEVICE = torch.device(\"cuda\" if torch.cuda.is_available() else \"cpu\")\n",
    "NUM_EPOCHS = 2\n",
    "BATCH_SIZE = 256\n",
    "LR = 3e-4"
   ]
  },
  {
   "cell_type": "code",
   "execution_count": 6,
   "metadata": {
    "execution": {
     "iopub.execute_input": "2022-07-22T20:32:02.100589Z",
     "iopub.status.busy": "2022-07-22T20:32:02.099766Z",
     "iopub.status.idle": "2022-07-22T20:32:02.106601Z",
     "shell.execute_reply": "2022-07-22T20:32:02.105282Z",
     "shell.execute_reply.started": "2022-07-22T20:32:02.100546Z"
    }
   },
   "outputs": [],
   "source": [
    "# batch_size = 4\n",
    "\n",
    "# dataset задаёт данные\n",
    "# trainset = torchvision.datasets.CIFAR10(root='./data', train=True,  download=True, transform=transform)\n",
    "# dataloader подгружает их\n",
    "# trainloader = torch.utils.data.DataLoader(trainset, batch_size=batch_size, shuffle=True, num_workers=2)\n",
    "\n",
    "# testset = torchvision.datasets.CIFAR10(root='./data', train=False, download=True, transform=transform)\n",
    "\n",
    "# testloader = torch.utils.data.DataLoader(testset, batch_size=batch_size, shuffle=False, num_workers=2)\n",
    "\n",
    "classes = ('plane', 'car', 'bird', 'cat',\n",
    "           'deer', 'dog', 'frog', 'horse', 'ship', 'truck')"
   ]
  },
  {
   "cell_type": "code",
   "execution_count": 7,
   "metadata": {
    "execution": {
     "iopub.execute_input": "2022-07-22T20:32:08.300624Z",
     "iopub.status.busy": "2022-07-22T20:32:08.300200Z",
     "iopub.status.idle": "2022-07-22T20:32:08.306183Z",
     "shell.execute_reply": "2022-07-22T20:32:08.304844Z",
     "shell.execute_reply.started": "2022-07-22T20:32:08.300588Z"
    }
   },
   "outputs": [],
   "source": [
    "# len(trainset), len(testset)"
   ]
  },
  {
   "cell_type": "code",
   "execution_count": 8,
   "metadata": {
    "execution": {
     "iopub.execute_input": "2022-07-22T20:32:28.306841Z",
     "iopub.status.busy": "2022-07-22T20:32:28.306435Z",
     "iopub.status.idle": "2022-07-22T20:32:38.347407Z",
     "shell.execute_reply": "2022-07-22T20:32:38.346211Z",
     "shell.execute_reply.started": "2022-07-22T20:32:28.306805Z"
    }
   },
   "outputs": [],
   "source": [
    "transforms = Compose([\n",
    "    ToTensor(),\n",
    "    Normalize(0.5, 0.25, inplace=True),\n",
    "])\n",
    "\n",
    "if DATASET == \"MNIST\":\n",
    "    IMAGE_CHANNELS = 1\n",
    "    NUM_CLASSES = 10\n",
    "    dataset = MNIST(\"./dataset/mnist\", download=True, transform=transforms)\n",
    "elif DATASET == \"CIFAR10\":\n",
    "    IMAGE_CHANNELS = 3\n",
    "    NUM_CLASSES = 10\n",
    "    dataset = CIFAR10(\"./dataset/cifar\", download=True, transform=transforms)\n",
    "else:\n",
    "    raise NotImplementedError(DATASET)"
   ]
  },
  {
   "cell_type": "code",
   "execution_count": 10,
   "metadata": {
    "execution": {
     "iopub.execute_input": "2022-07-22T20:34:05.949759Z",
     "iopub.status.busy": "2022-07-22T20:34:05.949090Z",
     "iopub.status.idle": "2022-07-22T20:34:06.256610Z",
     "shell.execute_reply": "2022-07-22T20:34:06.255399Z",
     "shell.execute_reply.started": "2022-07-22T20:34:05.949718Z"
    }
   },
   "outputs": [],
   "source": [
    "import random\n",
    "\n",
    "def show_images_dataset(dataset, n=5, collate_fn=lambda x: x[0]):\n",
    "    \"\"\"Plot images from dataset.\"\"\"\n",
    "    images = [collate_fn(random.choice(dataset)) for _ in range(n)]\n",
    "    grid = torchvision.utils.make_grid(images)\n",
    "    grid -= grid.min()\n",
    "    grid /= grid.max()\n",
    "    plt.imshow(grid.permute(1, 2, 0))\n",
    "    plt.show()\n",
    "\n",
    "\n",
    "print(\"Dataset\")\n",
    "show_images_dataset(dataset)"
   ]
  },
  {
   "cell_type": "markdown",
   "metadata": {},
   "source": [
    "#### (Recap) Рутина обучения в PyTorch"
   ]
  },
  {
   "cell_type": "code",
   "execution_count": 11,
   "metadata": {
    "execution": {
     "iopub.execute_input": "2022-07-22T20:34:16.727535Z",
     "iopub.status.busy": "2022-07-22T20:34:16.726759Z",
     "iopub.status.idle": "2022-07-22T20:34:16.732688Z",
     "shell.execute_reply": "2022-07-22T20:34:16.731465Z",
     "shell.execute_reply.started": "2022-07-22T20:34:16.727494Z"
    }
   },
   "outputs": [],
   "source": [
    "device = DEVICE"
   ]
  },
  {
   "cell_type": "code",
   "execution_count": 107,
   "metadata": {
    "execution": {
     "iopub.execute_input": "2022-07-22T18:50:47.287108Z",
     "iopub.status.busy": "2022-07-22T18:50:47.286496Z",
     "iopub.status.idle": "2022-07-22T18:50:47.297173Z",
     "shell.execute_reply": "2022-07-22T18:50:47.295382Z",
     "shell.execute_reply.started": "2022-07-22T18:50:47.287062Z"
    }
   },
   "outputs": [],
   "source": [
    "# batch_size = 512\n",
    "# trainloader = torch.utils.data.DataLoader(trainset, batch_size=batch_size,\n",
    "#                                           shuffle=True, num_workers=2)\n",
    "# \n",
    "# testloader = torch.utils.data.DataLoader(testset, batch_size=batch_size,\n",
    "#                                          shuffle=False, num_workers=2)"
   ]
  },
  {
   "cell_type": "code",
   "execution_count": 12,
   "metadata": {
    "execution": {
     "iopub.execute_input": "2022-07-22T20:34:50.256498Z",
     "iopub.status.busy": "2022-07-22T20:34:50.256063Z",
     "iopub.status.idle": "2022-07-22T20:34:50.268689Z",
     "shell.execute_reply": "2022-07-22T20:34:50.267446Z",
     "shell.execute_reply.started": "2022-07-22T20:34:50.256463Z"
    }
   },
   "outputs": [],
   "source": [
    "def train(model, dataset=dataset, num_epochs=NUM_EPOCHS, batch_size=BATCH_SIZE, lr=LR, device=DEVICE):\n",
    "    \"\"\"Model training routine function. \n",
    "    Uses Adam optimizer & cross-entropy loss.\n",
    "    \n",
    "    Args:\n",
    "        model: torch.nn.Module\n",
    "        dataset: torch.utils.data.Dataset\n",
    "        num_epochs: int\n",
    "        batch_size: int\n",
    "        lr: float\n",
    "        device: str\n",
    "        \n",
    "    Returns:\n",
    "        losses: list of float values of length num_epochs * len(dataloader)\n",
    "    \"\"\"\n",
    "    model.train()\n",
    "    model = model.to(device)\n",
    "    \n",
    "    dataloader = DataLoader(dataset, batch_size=batch_size, drop_last=True, shuffle=True, pin_memory=True)\n",
    "    optimizer = Adam(model.parameters(), lr=lr)\n",
    "    \n",
    "    losses = []    \n",
    "    for epoch in range(num_epochs):\n",
    "        for batch in tqdm.tqdm(dataloader):\n",
    "            xs, ys_true = batch\n",
    "            \n",
    "            logits_pred = model(xs.to(device))#.c\n",
    "            loss = cross_entropy(logits_pred, ys_true.to(device))\n",
    "            \n",
    "            # optimization step\n",
    "            optimizer.zero_grad()\n",
    "            loss.backward()\n",
    "            optimizer.step()\n",
    "                                \n",
    "            losses.append(loss.cpu().item())\n",
    "    \n",
    "    return losses"
   ]
  },
  {
   "cell_type": "code",
   "execution_count": 13,
   "metadata": {
    "execution": {
     "iopub.execute_input": "2022-07-22T20:34:59.746611Z",
     "iopub.status.busy": "2022-07-22T20:34:59.746103Z",
     "iopub.status.idle": "2022-07-22T20:35:19.646613Z",
     "shell.execute_reply": "2022-07-22T20:35:19.645421Z",
     "shell.execute_reply.started": "2022-07-22T20:34:59.746567Z"
    }
   },
   "outputs": [],
   "source": [
    "# TESTS for train()\n",
    "\n",
    "input_size = dataset[0][0].size()\n",
    "fc = torch.nn.Sequential(\n",
    "    torch.nn.Flatten(),\n",
    "    torch.nn.Linear(np.prod(input_size), NUM_CLASSES)\n",
    ")\n",
    "losses_fc = train(fc, dataset, num_epochs=1)\n",
    "\n",
    "assert len(losses_fc) == len(dataset) // BATCH_SIZE\n",
    "assert np.mean(losses_fc[:10]) > np.mean(losses_fc[-10:])\n",
    "\n",
    "plot(losses_fc, \"fc\")"
   ]
  },
  {
   "cell_type": "markdown",
   "metadata": {},
   "source": [
    "#### Реализация простой сети типа ResNet"
   ]
  },
  {
   "cell_type": "markdown",
   "metadata": {},
   "source": [
    "Взглянем на примерную схему сети ResNet34:\n",
    "\n",
    "![resnet34](res/resnet34.png)"
   ]
  },
  {
   "cell_type": "markdown",
   "metadata": {},
   "source": [
    "Реализуем свой \"ResNet10\":\n",
    "\n",
    "![resnet10](res/resnet10.png)\n",
    "\n",
    "Пересчитайте число слоев с весами - их как раз 10.\n",
    "\n",
    "Кроме того, для простоты все операции уменьшения размера сведем к пулингу и вынесем в отдельные слои (а не встроим в сами сверточные блоки, как, например, в [torchvision](https://github.com/pytorch/vision/blob/main/torchvision/models/resnet.py))."
   ]
  },
  {
   "cell_type": "markdown",
   "metadata": {},
   "source": [
    "Для начала реализуем вспомогательную функцию `get_conv(...)`, которая приготовит нам последовательность (свертка + активация + батчнорм). Это очень распространенная комбинация операций, которая на будет нужна неоднократно:"
   ]
  },
  {
   "cell_type": "code",
   "execution_count": 14,
   "metadata": {
    "execution": {
     "iopub.execute_input": "2022-07-22T20:35:29.797074Z",
     "iopub.status.busy": "2022-07-22T20:35:29.796664Z",
     "iopub.status.idle": "2022-07-22T20:35:29.805184Z",
     "shell.execute_reply": "2022-07-22T20:35:29.803902Z",
     "shell.execute_reply.started": "2022-07-22T20:35:29.797039Z"
    }
   },
   "outputs": [],
   "source": [
    "def get_conv(kernel_size, in_features, out_features, with_bn=True, with_relu=True):\n",
    "    \"\"\"Create conv -> [relu] -> [bn] layers, embedded in torch.nn.Sequential module.\n",
    "    \n",
    "    ! Conv layer must preserve spatial tensor dims (i.e. apply zero padding).\n",
    "    \n",
    "    Args:\n",
    "        kernel_size: int\n",
    "        in_features: int\n",
    "        out_features: int\n",
    "        with_bn: bool\n",
    "        with_relu: bool\n",
    "        \n",
    "    Returns:\n",
    "        torch.nn.Sequential\n",
    "    \"\"\"\n",
    "    layers = [\n",
    "        # nn.Conv2d(... # YOUR CODE HERE\n",
    "        nn.Conv2d(in_features, out_features, kernel_size, 1, kernel_size // 2)\n",
    "    ]\n",
    "    \n",
    "    if with_relu:\n",
    "        # YOUR CODE HERE\n",
    "        layers.append(nn.ReLU(inplace=(with_bn is True)))\n",
    "        \n",
    "    if with_bn:\n",
    "        # YOUR CODE HERE\n",
    "        layers.append(nn.BatchNorm2d(out_features))\n",
    "    \n",
    "    return nn.Sequential(*layers)"
   ]
  },
  {
   "cell_type": "code",
   "execution_count": 15,
   "metadata": {
    "execution": {
     "iopub.execute_input": "2022-07-22T20:35:31.628483Z",
     "iopub.status.busy": "2022-07-22T20:35:31.627975Z",
     "iopub.status.idle": "2022-07-22T20:35:31.640718Z",
     "shell.execute_reply": "2022-07-22T20:35:31.639176Z",
     "shell.execute_reply.started": "2022-07-22T20:35:31.628447Z"
    }
   },
   "outputs": [],
   "source": [
    "# TESTS for get_conv()\n",
    "conv = get_conv(3, 8, 16)\n",
    "\n",
    "assert len(conv) == 3\n",
    "assert isinstance(conv[0], torch.nn.Conv2d)\n",
    "assert conv[0].in_channels == 8\n",
    "assert conv[0].out_channels == 16\n",
    "\n",
    "assert isinstance(conv[1], torch.nn.ReLU)\n",
    "\n",
    "assert isinstance(conv[2], torch.nn.BatchNorm2d)\n",
    "assert conv[2].num_features == 16\n",
    "\n",
    "\n",
    "conv = get_conv(3, 8, 16, with_bn=False, with_relu=False)\n",
    "\n",
    "assert len(conv) == 1\n",
    "assert isinstance(conv[0], torch.nn.Conv2d)\n",
    "assert conv[0].in_channels == 8\n",
    "assert conv[0].out_channels == 16"
   ]
  },
  {
   "cell_type": "markdown",
   "metadata": {},
   "source": [
    "Также реализуем слой `GlobalAveragePooling`. Помните, зачем он нужен?"
   ]
  },
  {
   "cell_type": "code",
   "execution_count": 16,
   "metadata": {
    "execution": {
     "iopub.execute_input": "2022-07-22T20:35:33.609108Z",
     "iopub.status.busy": "2022-07-22T20:35:33.608691Z",
     "iopub.status.idle": "2022-07-22T20:35:33.616905Z",
     "shell.execute_reply": "2022-07-22T20:35:33.615436Z",
     "shell.execute_reply.started": "2022-07-22T20:35:33.609073Z"
    }
   },
   "outputs": [],
   "source": [
    "class GlobalAveragePooling2d(nn.Module):\n",
    "    def forward(self, x):\n",
    "        \"\"\"GAP forward pass.\n",
    "        \n",
    "        Args:\n",
    "            x: torch.Tensor, size B x C x H x W.\n",
    "        \n",
    "        Returns:\n",
    "            torch.Tensor, size B x C.\n",
    "        \"\"\"\n",
    "        # y = # YOUR CODE HERE\n",
    "        y = torch.mean(x, dim=(2, 3))\n",
    "        return y"
   ]
  },
  {
   "cell_type": "code",
   "execution_count": 17,
   "metadata": {
    "execution": {
     "iopub.execute_input": "2022-07-22T20:35:35.860613Z",
     "iopub.status.busy": "2022-07-22T20:35:35.860214Z",
     "iopub.status.idle": "2022-07-22T20:35:35.870626Z",
     "shell.execute_reply": "2022-07-22T20:35:35.868232Z",
     "shell.execute_reply.started": "2022-07-22T20:35:35.860579Z"
    }
   },
   "outputs": [],
   "source": [
    "# TESTS for GAP\n",
    "\n",
    "gap = GlobalAveragePooling2d()\n",
    "x = torch.randn(4, 3, 16, 16)\n",
    "y = gap(x)\n",
    "\n",
    "assert y.size() == (4, 3)"
   ]
  },
  {
   "cell_type": "markdown",
   "metadata": {},
   "source": [
    "Перейдем к главному в ResNet - собственно, residual-блоку:\n",
    "\n",
    "![residual_block](res/residual_block.png)\n",
    "\n",
    "Под \"блоком\" мы будем иметь в виду последовательность сверточных слоев (с активацией и BN), \"вокруг\" которых прокинут skip-connection. Таким образом, в нашей сети \"ResNet10\" будет 4 таких блока (найдите их на картинке c ResNet10 выше).\n",
    "\n",
    "Важный момент: обратите внимание, что тензоры **x** и **F(x)** могут иметь разное число каналов (например, 64 и 128). Как же сложить два таких тензора?..\n",
    "\n",
    "Ответ: сделать \"проекцию\", см. `projection` в коде."
   ]
  },
  {
   "cell_type": "code",
   "execution_count": 18,
   "metadata": {
    "execution": {
     "iopub.execute_input": "2022-07-22T20:35:37.943056Z",
     "iopub.status.busy": "2022-07-22T20:35:37.941804Z",
     "iopub.status.idle": "2022-07-22T20:35:37.959309Z",
     "shell.execute_reply": "2022-07-22T20:35:37.957349Z",
     "shell.execute_reply.started": "2022-07-22T20:35:37.942994Z"
    }
   },
   "outputs": [],
   "source": [
    "class ResidualBlock(nn.Module):\n",
    "    def __init__(self, num_input_features, num_features, num_layers, with_bn=True):\n",
    "        super().__init__()\n",
    "        \n",
    "        if num_input_features != num_features:\n",
    "            self.projection = nn.Conv2d(num_input_features, num_features, 1, 1, 0)\n",
    "        else:\n",
    "            self.projection = None\n",
    "        \n",
    "        layers = []\n",
    "        for i in range(num_layers):\n",
    "            conv = get_conv(3, num_input_features, num_features, with_bn=with_bn)\n",
    "            layers.append(conv)\n",
    "            num_input_features = num_features\n",
    "        self.layers = nn.Sequential(*layers)\n",
    "        \n",
    "        self.num_input_features = num_input_features\n",
    "        self.num_features = num_features\n",
    "        self.num_layers = num_layers\n",
    "        self.with_bn = with_bn\n",
    "        \n",
    "    def forward(self, x):\n",
    "        \"\"\"Forward pass.\n",
    "        Applies convolution layers and skip-connection; self.projection, if necessary.\n",
    "        \n",
    "        Args:\n",
    "            x: torch.Tensor, size B x C x H x W.\n",
    "            \n",
    "        Returns:\n",
    "            torch.Tensor, size B x C x H x W.\n",
    "        \"\"\"\n",
    "        x_input = x\n",
    "        # YOUR CODE HERE\n",
    "        \n",
    "        for layer in self.layers:\n",
    "            x = layer(x)\n",
    "        \n",
    "        if self.projection is not None:\n",
    "            x += self.projection(x_input)\n",
    "        else:\n",
    "            x += x_input\n",
    "            \n",
    "        return relu(x)\n",
    "    \n",
    "    def __repr__(self):\n",
    "        out = f\"ResidualBlock(num_input_features={self.num_input_features}, num_features={self.num_features}, num_layers={self.num_layers}, with_bn={self.with_bn})\"\n",
    "        for l in self.layers:\n",
    "            out += \"\\n\" + \"\\t\" + repr(l)\n",
    "        return out"
   ]
  },
  {
   "cell_type": "code",
   "execution_count": 19,
   "metadata": {
    "execution": {
     "iopub.execute_input": "2022-07-22T20:35:39.823111Z",
     "iopub.status.busy": "2022-07-22T20:35:39.822699Z",
     "iopub.status.idle": "2022-07-22T20:35:39.836091Z",
     "shell.execute_reply": "2022-07-22T20:35:39.834275Z",
     "shell.execute_reply.started": "2022-07-22T20:35:39.823077Z"
    }
   },
   "outputs": [],
   "source": [
    "# TESTS for ResidualBlock\n",
    "block = ResidualBlock(4, 4, 2)\n",
    "\n",
    "assert len(block.layers) == 2\n",
    "assert len(block.layers[0]) == 3\n",
    "assert len(block.layers[1]) == 3\n",
    "assert isinstance(block.layers[1][2], nn.BatchNorm2d)\n",
    "\n",
    "print(block)"
   ]
  },
  {
   "cell_type": "markdown",
   "metadata": {},
   "source": [
    "Дальше дело за малым - собрать из готовых блоков нашу сеть:\n",
    "\n",
    "![resnet10](res/resnet10.png)\n"
   ]
  },
  {
   "cell_type": "code",
   "execution_count": 20,
   "metadata": {
    "execution": {
     "iopub.execute_input": "2022-07-22T20:35:41.545660Z",
     "iopub.status.busy": "2022-07-22T20:35:41.544826Z",
     "iopub.status.idle": "2022-07-22T20:35:41.556604Z",
     "shell.execute_reply": "2022-07-22T20:35:41.554494Z",
     "shell.execute_reply.started": "2022-07-22T20:35:41.545620Z"
    }
   },
   "outputs": [],
   "source": [
    "def create_resnet10(num_input_features=IMAGE_CHANNELS, num_classes=NUM_CLASSES, with_bn=True):\n",
    "    pool = nn.MaxPool2d((2, 2))\n",
    "    gap = GlobalAveragePooling2d()\n",
    "    fc = nn.Linear(512, num_classes)\n",
    "    return nn.Sequential(\n",
    "        get_conv(7, num_input_features, 64, with_bn=with_bn),\n",
    "        pool,\n",
    "        ResidualBlock(64, 64, 2, with_bn=with_bn),\n",
    "        pool,\n",
    "        ResidualBlock(64, 128, 2, with_bn=with_bn),\n",
    "        pool,\n",
    "        ResidualBlock(128, 256, 2, with_bn=with_bn),\n",
    "        pool,\n",
    "        ResidualBlock(256, 512, 2, with_bn=with_bn),\n",
    "        gap,\n",
    "        fc\n",
    "    )"
   ]
  },
  {
   "cell_type": "code",
   "execution_count": 21,
   "metadata": {
    "execution": {
     "iopub.execute_input": "2022-07-22T20:35:51.253403Z",
     "iopub.status.busy": "2022-07-22T20:35:51.252834Z",
     "iopub.status.idle": "2022-07-22T20:35:51.394151Z",
     "shell.execute_reply": "2022-07-22T20:35:51.392853Z",
     "shell.execute_reply.started": "2022-07-22T20:35:51.253352Z"
    }
   },
   "outputs": [],
   "source": [
    "resnet10 = create_resnet10()\n",
    "resnet10.to(DEVICE)"
   ]
  },
  {
   "cell_type": "markdown",
   "metadata": {},
   "source": [
    "Обучим полученную модель с помощью реализованной в начале функции `train()`:"
   ]
  },
  {
   "cell_type": "code",
   "execution_count": 22,
   "metadata": {
    "execution": {
     "iopub.execute_input": "2022-07-22T20:36:49.960714Z",
     "iopub.status.busy": "2022-07-22T20:36:49.960023Z",
     "iopub.status.idle": "2022-07-22T20:38:46.888325Z",
     "shell.execute_reply": "2022-07-22T20:38:46.887104Z",
     "shell.execute_reply.started": "2022-07-22T20:36:49.960672Z"
    }
   },
   "outputs": [],
   "source": [
    "NUM_EPOCHS = 5\n",
    "losses_resnet10 = train(resnet10, num_epochs=NUM_EPOCHS)"
   ]
  },
  {
   "cell_type": "code",
   "execution_count": 23,
   "metadata": {
    "execution": {
     "iopub.execute_input": "2022-07-22T20:40:29.496805Z",
     "iopub.status.busy": "2022-07-22T20:40:29.496394Z",
     "iopub.status.idle": "2022-07-22T20:40:29.733118Z",
     "shell.execute_reply": "2022-07-22T20:40:29.731850Z",
     "shell.execute_reply.started": "2022-07-22T20:40:29.496773Z"
    }
   },
   "outputs": [],
   "source": [
    "plot(losses_resnet10, label=\"resnet10\")"
   ]
  },
  {
   "cell_type": "code",
   "execution_count": 31,
   "metadata": {
    "execution": {
     "iopub.execute_input": "2022-07-22T20:44:08.245393Z",
     "iopub.status.busy": "2022-07-22T20:44:08.244988Z",
     "iopub.status.idle": "2022-07-22T20:44:08.254807Z",
     "shell.execute_reply": "2022-07-22T20:44:08.253114Z",
     "shell.execute_reply.started": "2022-07-22T20:44:08.245360Z"
    }
   },
   "outputs": [],
   "source": [
    "def all_accuracy(net, testloader):\n",
    "    correct = 0\n",
    "    total = 0\n",
    "    with torch.no_grad():\n",
    "        for data in testloader:\n",
    "            images, labels = data\n",
    "            images = images.to(DEVICE)\n",
    "            outputs = net(images).to(\"cpu\")\n",
    "            # дополните код\n",
    "            _, predicted = torch.max(outputs.data, 1)\n",
    "            total += labels.size(0)\n",
    "            correct += (predicted == labels).sum().item()\n",
    "\n",
    "    print('Accuracy of the network on the 10000 test images: {} %'.format(\n",
    "        100 * correct / total))"
   ]
  },
  {
   "cell_type": "code",
   "execution_count": 27,
   "metadata": {
    "execution": {
     "iopub.execute_input": "2022-07-22T20:42:23.444477Z",
     "iopub.status.busy": "2022-07-22T20:42:23.443906Z",
     "iopub.status.idle": "2022-07-22T20:42:24.305914Z",
     "shell.execute_reply": "2022-07-22T20:42:24.304824Z",
     "shell.execute_reply.started": "2022-07-22T20:42:23.444436Z"
    }
   },
   "outputs": [],
   "source": [
    "testset = torchvision.datasets.CIFAR10(root='./data', train=False,\n",
    "                                       download=True, transform=transforms)\n",
    "\n",
    "testloader = torch.utils.data.DataLoader(testset, batch_size=256,\n",
    "                                         shuffle=False, num_workers=2)"
   ]
  },
  {
   "cell_type": "code",
   "execution_count": 32,
   "metadata": {
    "execution": {
     "iopub.execute_input": "2022-07-22T20:44:12.401887Z",
     "iopub.status.busy": "2022-07-22T20:44:12.401458Z",
     "iopub.status.idle": "2022-07-22T20:44:15.377256Z",
     "shell.execute_reply": "2022-07-22T20:44:15.374968Z",
     "shell.execute_reply.started": "2022-07-22T20:44:12.401834Z"
    }
   },
   "outputs": [],
   "source": [
    "all_accuracy(resnet10, testloader)"
   ]
  },
  {
   "cell_type": "code",
   "execution_count": 34,
   "metadata": {
    "execution": {
     "iopub.execute_input": "2022-07-22T20:46:44.854901Z",
     "iopub.status.busy": "2022-07-22T20:46:44.854489Z",
     "iopub.status.idle": "2022-07-22T20:46:44.866955Z",
     "shell.execute_reply": "2022-07-22T20:46:44.865224Z",
     "shell.execute_reply.started": "2022-07-22T20:46:44.854845Z"
    }
   },
   "outputs": [],
   "source": [
    "def class_accuracy(net, testloader):\n",
    "    class_correct = list(0. for i in range(10))\n",
    "    class_total = list(0. for i in range(10))\n",
    "    with torch.no_grad():\n",
    "        for data in testloader:\n",
    "            images, labels = data\n",
    "            images = images.to(DEVICE)\n",
    "            outputs = net(images).to(\"cpu\")\n",
    "            _, predicted = torch.max(outputs, 1)\n",
    "            c = (predicted == labels).squeeze()\n",
    "            for i in range(4):\n",
    "                label = labels[i]\n",
    "                class_correct[label] += c[i].item()\n",
    "                class_total[label] += 1\n",
    "\n",
    "\n",
    "    for i in range(10):\n",
    "        print('Accuracy of {} : {} %'.format(\n",
    "            classes[i], 100 * class_correct[i] / class_total[i]))"
   ]
  },
  {
   "cell_type": "code",
   "execution_count": 35,
   "metadata": {
    "execution": {
     "iopub.execute_input": "2022-07-22T20:46:47.194511Z",
     "iopub.status.busy": "2022-07-22T20:46:47.194118Z",
     "iopub.status.idle": "2022-07-22T20:46:50.098700Z",
     "shell.execute_reply": "2022-07-22T20:46:50.097268Z",
     "shell.execute_reply.started": "2022-07-22T20:46:47.194478Z"
    }
   },
   "outputs": [],
   "source": [
    "class_accuracy(resnet10, testloader)"
   ]
  },
  {
   "cell_type": "markdown",
   "metadata": {},
   "source": [
    "#### Проверка эффекта от BatchNormalization\n"
   ]
  },
  {
   "cell_type": "markdown",
   "metadata": {},
   "source": [
    "Теперь проведем небольшой эксперимент: создадим сеть с аналогичной нашему ResNet10 архитектурой, но без слоев BatchNormalization."
   ]
  },
  {
   "cell_type": "markdown",
   "metadata": {},
   "source": [
    "#### Проверка эффекта от Residual-блоков\n"
   ]
  },
  {
   "cell_type": "markdown",
   "metadata": {},
   "source": [
    "Теперь построим модель, у которой будет аналогичное число параметров (и FLOPS), но у которой не будет skip-connections. Называться она будет... Net10?\n",
    "\n",
    "Для этого напишем класс для обычного блока - это легко сделать, ощипав уже написанный класс `ResidualBlock` (да, все вот так наоборот)."
   ]
  },
  {
   "cell_type": "code",
   "execution_count": 38,
   "metadata": {
    "execution": {
     "iopub.execute_input": "2022-07-22T20:47:29.927401Z",
     "iopub.status.busy": "2022-07-22T20:47:29.926982Z",
     "iopub.status.idle": "2022-07-22T20:47:29.939112Z",
     "shell.execute_reply": "2022-07-22T20:47:29.937770Z",
     "shell.execute_reply.started": "2022-07-22T20:47:29.927368Z"
    }
   },
   "outputs": [],
   "source": [
    "class Block(nn.Module):\n",
    "    def __init__(self, num_input_features, num_features, num_layers, with_bn=True):\n",
    "        super().__init__()\n",
    "\n",
    "        layers = []\n",
    "        for i in range(num_layers):\n",
    "            conv = get_conv(3, num_input_features, num_features, with_bn=with_bn)\n",
    "            layers.append(conv)\n",
    "            num_input_features = num_features\n",
    "        self.layers = nn.Sequential(*layers)\n",
    "\n",
    "        self.num_input_features = num_input_features\n",
    "        self.num_features = num_features\n",
    "        self.num_layers = num_layers\n",
    "        self.with_bn = with_bn\n",
    "\n",
    "    def forward(self, x):\n",
    "        for layer in self.layers:\n",
    "            x = layer(x)\n",
    "        return x\n",
    "\n",
    "    def __repr__(self):\n",
    "        out = f\"Block(num_input_features={self.num_input_features}, num_features={self.num_features}, num_layers={self.num_layers}, with_bn={self.with_bn})\"\n",
    "        for l in self.layers:\n",
    "            out += \"\\n\" + \"\\t\" + repr(l)\n",
    "        return out"
   ]
  },
  {
   "cell_type": "markdown",
   "metadata": {},
   "source": [
    "Функция для создания модели - тоже аналогична:"
   ]
  },
  {
   "cell_type": "code",
   "execution_count": 39,
   "metadata": {
    "execution": {
     "iopub.execute_input": "2022-07-22T20:47:31.943644Z",
     "iopub.status.busy": "2022-07-22T20:47:31.942863Z",
     "iopub.status.idle": "2022-07-22T20:47:31.953851Z",
     "shell.execute_reply": "2022-07-22T20:47:31.952313Z",
     "shell.execute_reply.started": "2022-07-22T20:47:31.943601Z"
    }
   },
   "outputs": [],
   "source": [
    "def create_net10(num_input_features=IMAGE_CHANNELS, num_classes=NUM_CLASSES, with_bn=True):\n",
    "    pool = nn.MaxPool2d((2, 2))\n",
    "    gap = GlobalAveragePooling2d()\n",
    "    fc = nn.Linear(512, num_classes)\n",
    "    return nn.Sequential(\n",
    "        get_conv(7, num_input_features, 64, with_bn=with_bn),\n",
    "        pool,\n",
    "        Block(64, 64, 2, with_bn=with_bn),\n",
    "        pool,\n",
    "        Block(64, 128, 2, with_bn=with_bn),\n",
    "        pool,\n",
    "        Block(128, 256, 2, with_bn=with_bn),\n",
    "        pool,\n",
    "        Block(256, 512, 2, with_bn=with_bn),\n",
    "        gap,\n",
    "        fc\n",
    "    )"
   ]
  },
  {
   "cell_type": "code",
   "execution_count": 41,
   "metadata": {
    "execution": {
     "iopub.execute_input": "2022-07-22T20:47:43.116601Z",
     "iopub.status.busy": "2022-07-22T20:47:43.116176Z",
     "iopub.status.idle": "2022-07-22T20:47:43.182084Z",
     "shell.execute_reply": "2022-07-22T20:47:43.180889Z",
     "shell.execute_reply.started": "2022-07-22T20:47:43.116567Z"
    }
   },
   "outputs": [],
   "source": [
    "net10 = create_net10()\n",
    "net10"
   ]
  },
  {
   "cell_type": "code",
   "execution_count": 42,
   "metadata": {
    "execution": {
     "iopub.execute_input": "2022-07-22T20:47:47.235200Z",
     "iopub.status.busy": "2022-07-22T20:47:47.234632Z",
     "iopub.status.idle": "2022-07-22T20:49:37.065128Z",
     "shell.execute_reply": "2022-07-22T20:49:37.063937Z",
     "shell.execute_reply.started": "2022-07-22T20:47:47.235157Z"
    }
   },
   "outputs": [],
   "source": [
    "losses_net10 = train(net10,  device=DEVICE, num_epochs=NUM_EPOCHS)"
   ]
  },
  {
   "cell_type": "code",
   "execution_count": 43,
   "metadata": {
    "execution": {
     "iopub.execute_input": "2022-07-22T20:49:57.815003Z",
     "iopub.status.busy": "2022-07-22T20:49:57.814591Z",
     "iopub.status.idle": "2022-07-22T20:50:01.126146Z",
     "shell.execute_reply": "2022-07-22T20:50:01.123838Z",
     "shell.execute_reply.started": "2022-07-22T20:49:57.814969Z"
    }
   },
   "outputs": [],
   "source": [
    "all_accuracy(net10, testloader)"
   ]
  },
  {
   "cell_type": "code",
   "execution_count": 44,
   "metadata": {
    "execution": {
     "iopub.execute_input": "2022-07-22T20:50:14.880654Z",
     "iopub.status.busy": "2022-07-22T20:50:14.880231Z",
     "iopub.status.idle": "2022-07-22T20:50:17.721557Z",
     "shell.execute_reply": "2022-07-22T20:50:17.720017Z",
     "shell.execute_reply.started": "2022-07-22T20:50:14.880619Z"
    }
   },
   "outputs": [],
   "source": [
    "class_accuracy(net10, testloader)"
   ]
  },
  {
   "cell_type": "code",
   "execution_count": 45,
   "metadata": {
    "execution": {
     "iopub.execute_input": "2022-07-22T20:50:26.700721Z",
     "iopub.status.busy": "2022-07-22T20:50:26.699789Z",
     "iopub.status.idle": "2022-07-22T20:50:26.947209Z",
     "shell.execute_reply": "2022-07-22T20:50:26.945917Z",
     "shell.execute_reply.started": "2022-07-22T20:50:26.700679Z"
    }
   },
   "outputs": [],
   "source": [
    "plot(losses_resnet10, label=\"resnet10\")\n",
    "plot(losses_net10, label=\"net10\")"
   ]
  },
  {
   "cell_type": "markdown",
   "metadata": {},
   "source": [
    "При обучении данных моделей разницы почти не видно... Почему?\n",
    "\n",
    "Ок, сделаем сети поглубже:"
   ]
  },
  {
   "cell_type": "code",
   "execution_count": 46,
   "metadata": {
    "execution": {
     "iopub.execute_input": "2022-07-22T20:50:31.894542Z",
     "iopub.status.busy": "2022-07-22T20:50:31.894150Z",
     "iopub.status.idle": "2022-07-22T20:50:31.910638Z",
     "shell.execute_reply": "2022-07-22T20:50:31.909163Z",
     "shell.execute_reply.started": "2022-07-22T20:50:31.894509Z"
    }
   },
   "outputs": [],
   "source": [
    "def create_net34(num_input_features=IMAGE_CHANNELS, num_classes=NUM_CLASSES, with_bn=True):\n",
    "    pool = nn.MaxPool2d((2, 2))\n",
    "    gap = GlobalAveragePooling2d()\n",
    "    fc = nn.Linear(512, num_classes)\n",
    "    return nn.Sequential(\n",
    "        get_conv(7, num_input_features, 64, with_bn=with_bn),\n",
    "        pool,\n",
    "        Block(64, 64, 2, with_bn=with_bn),\n",
    "        Block(64, 64, 2, with_bn=with_bn),\n",
    "        Block(64, 64, 2, with_bn=with_bn),\n",
    "        pool,\n",
    "        Block(64, 128, 2, with_bn=with_bn),\n",
    "        Block(128, 128, 2, with_bn=with_bn),\n",
    "        Block(128, 128, 2, with_bn=with_bn),\n",
    "        pool,\n",
    "        Block(128, 256, 2, with_bn=with_bn),\n",
    "        Block(256, 256, 2, with_bn=with_bn),\n",
    "        Block(256, 256, 2, with_bn=with_bn),\n",
    "        Block(256, 256, 2, with_bn=with_bn),\n",
    "        Block(256, 256, 2, with_bn=with_bn),\n",
    "        pool,\n",
    "        Block(256, 512, 2, with_bn=with_bn),\n",
    "        Block(512, 512, 2, with_bn=with_bn),\n",
    "        Block(512, 512, 2, with_bn=with_bn),\n",
    "        gap,\n",
    "        fc\n",
    "    )"
   ]
  },
  {
   "cell_type": "code",
   "execution_count": 47,
   "metadata": {
    "execution": {
     "iopub.execute_input": "2022-07-22T20:50:35.238337Z",
     "iopub.status.busy": "2022-07-22T20:50:35.237830Z",
     "iopub.status.idle": "2022-07-22T20:50:35.250832Z",
     "shell.execute_reply": "2022-07-22T20:50:35.249164Z",
     "shell.execute_reply.started": "2022-07-22T20:50:35.238298Z"
    }
   },
   "outputs": [],
   "source": [
    "def create_resnet34(num_input_features=IMAGE_CHANNELS, num_classes=NUM_CLASSES, with_bn=True):\n",
    "    pool = nn.MaxPool2d((2, 2))\n",
    "    gap = GlobalAveragePooling2d()\n",
    "    fc = nn.Linear(512, num_classes)\n",
    "    return nn.Sequential(\n",
    "        get_conv(7, num_input_features, 64, with_bn=with_bn),\n",
    "        pool,\n",
    "        ResidualBlock(64, 64, 2, with_bn=with_bn),\n",
    "        ResidualBlock(64, 64, 2, with_bn=with_bn),\n",
    "        ResidualBlock(64, 64, 2, with_bn=with_bn),\n",
    "        pool,\n",
    "        ResidualBlock(64, 128, 2, with_bn=with_bn),\n",
    "        ResidualBlock(128, 128, 2, with_bn=with_bn),\n",
    "        ResidualBlock(128, 128, 2, with_bn=with_bn),\n",
    "        pool,\n",
    "        ResidualBlock(128, 256, 2, with_bn=with_bn),\n",
    "        ResidualBlock(256, 256, 2, with_bn=with_bn),\n",
    "        ResidualBlock(256, 256, 2, with_bn=with_bn),\n",
    "        ResidualBlock(256, 256, 2, with_bn=with_bn),\n",
    "        ResidualBlock(256, 256, 2, with_bn=with_bn),\n",
    "        pool,\n",
    "        ResidualBlock(256, 512, 2, with_bn=with_bn),\n",
    "        ResidualBlock(512, 512, 2, with_bn=with_bn),\n",
    "        ResidualBlock(512, 512, 2, with_bn=with_bn),\n",
    "        gap,\n",
    "        fc\n",
    "    )"
   ]
  },
  {
   "cell_type": "code",
   "execution_count": 48,
   "metadata": {
    "execution": {
     "iopub.execute_input": "2022-07-22T20:50:41.046597Z",
     "iopub.status.busy": "2022-07-22T20:50:41.046171Z",
     "iopub.status.idle": "2022-07-22T20:50:41.281038Z",
     "shell.execute_reply": "2022-07-22T20:50:41.279792Z",
     "shell.execute_reply.started": "2022-07-22T20:50:41.046562Z"
    }
   },
   "outputs": [],
   "source": [
    "net34 = create_net34()\n",
    "net34;"
   ]
  },
  {
   "cell_type": "code",
   "execution_count": 49,
   "metadata": {
    "execution": {
     "iopub.execute_input": "2022-07-22T20:50:45.411524Z",
     "iopub.status.busy": "2022-07-22T20:50:45.411122Z",
     "iopub.status.idle": "2022-07-22T20:53:34.891473Z",
     "shell.execute_reply": "2022-07-22T20:53:34.889904Z",
     "shell.execute_reply.started": "2022-07-22T20:50:45.411491Z"
    }
   },
   "outputs": [],
   "source": [
    "losses_net34 = train(net34,  device=DEVICE, num_epochs=NUM_EPOCHS)"
   ]
  },
  {
   "cell_type": "code",
   "execution_count": 50,
   "metadata": {
    "execution": {
     "iopub.execute_input": "2022-07-22T20:54:11.629828Z",
     "iopub.status.busy": "2022-07-22T20:54:11.629478Z",
     "iopub.status.idle": "2022-07-22T20:54:11.792735Z",
     "shell.execute_reply": "2022-07-22T20:54:11.791852Z",
     "shell.execute_reply.started": "2022-07-22T20:54:11.629801Z"
    }
   },
   "outputs": [],
   "source": [
    "resnet34 = create_resnet34()\n",
    "resnet34;"
   ]
  },
  {
   "cell_type": "code",
   "execution_count": 51,
   "metadata": {
    "execution": {
     "iopub.execute_input": "2022-07-22T20:54:13.972595Z",
     "iopub.status.busy": "2022-07-22T20:54:13.972256Z",
     "iopub.status.idle": "2022-07-22T20:56:49.140325Z",
     "shell.execute_reply": "2022-07-22T20:56:49.139357Z",
     "shell.execute_reply.started": "2022-07-22T20:54:13.972558Z"
    }
   },
   "outputs": [],
   "source": [
    "losses_resnet34 = train(resnet34,  device=DEVICE, num_epochs=NUM_EPOCHS)"
   ]
  },
  {
   "cell_type": "code",
   "execution_count": 52,
   "metadata": {
    "execution": {
     "iopub.execute_input": "2022-07-22T20:57:30.602931Z",
     "iopub.status.busy": "2022-07-22T20:57:30.602582Z",
     "iopub.status.idle": "2022-07-22T20:57:30.801194Z",
     "shell.execute_reply": "2022-07-22T20:57:30.800299Z",
     "shell.execute_reply.started": "2022-07-22T20:57:30.602903Z"
    }
   },
   "outputs": [],
   "source": [
    "plot(losses_resnet34, \"resnet34\")\n",
    "plot(losses_net34, \"net34\")"
   ]
  },
  {
   "cell_type": "code",
   "execution_count": 53,
   "metadata": {
    "execution": {
     "iopub.execute_input": "2022-07-22T20:58:10.033830Z",
     "iopub.status.busy": "2022-07-22T20:58:10.033387Z",
     "iopub.status.idle": "2022-07-22T20:58:16.192405Z",
     "shell.execute_reply": "2022-07-22T20:58:16.191387Z",
     "shell.execute_reply.started": "2022-07-22T20:58:10.033792Z"
    }
   },
   "outputs": [],
   "source": [
    "all_accuracy(net34, testloader)\n",
    "class_accuracy(net34, testloader)"
   ]
  },
  {
   "cell_type": "code",
   "execution_count": 54,
   "metadata": {
    "execution": {
     "iopub.execute_input": "2022-07-22T20:58:29.555816Z",
     "iopub.status.busy": "2022-07-22T20:58:29.555443Z",
     "iopub.status.idle": "2022-07-22T20:58:34.927340Z",
     "shell.execute_reply": "2022-07-22T20:58:34.926123Z",
     "shell.execute_reply.started": "2022-07-22T20:58:29.555785Z"
    }
   },
   "outputs": [],
   "source": [
    "all_accuracy(resnet34, testloader)\n",
    "class_accuracy(resnet34, testloader)"
   ]
  },
  {
   "cell_type": "markdown",
   "metadata": {},
   "source": [
    "Gotcha!"
   ]
  },
  {
   "cell_type": "markdown",
   "metadata": {},
   "source": [
    "#### (Bonus) Свертки первого слоя"
   ]
  },
  {
   "cell_type": "markdown",
   "metadata": {},
   "source": [
    "Возьмем ResNet18, предобученный (долго и качественно, в отличие от наших поделок) на датасете ImageNet и отрисуем ядра сверток первого сверточного слоя:"
   ]
  },
  {
   "cell_type": "code",
   "execution_count": 55,
   "metadata": {
    "execution": {
     "iopub.execute_input": "2022-07-22T20:59:08.450574Z",
     "iopub.status.busy": "2022-07-22T20:59:08.449576Z",
     "iopub.status.idle": "2022-07-22T20:59:13.672180Z",
     "shell.execute_reply": "2022-07-22T20:59:13.671118Z",
     "shell.execute_reply.started": "2022-07-22T20:59:08.450529Z"
    }
   },
   "outputs": [],
   "source": [
    "from torchvision.models import resnet18\n",
    "resnet18_pt = resnet18(pretrained=True)\n",
    "show_kernels(resnet18_pt.conv1)"
   ]
  },
  {
   "cell_type": "markdown",
   "metadata": {},
   "source": [
    "#### Для любознательных\n",
    "\n",
    "* Поучите сети подольше. Как соотносятся итоговые результаты с residual-блоками и без? С BN и без?\n",
    "* Мы замеряли только train loss. Попробуйте замерить другие метрики, использовать validation set, ...\n",
    "* Реализуйте SEBlock (Squeeze-n-Excitation), а затем соберите (с помощью кода из этого семинара) SE-Net. Как она себя ведет?\n",
    "* Реализуйте Bottleneck для ResNet50/101/152. Подсмотреть можно [тут](https://github.com/pytorch/vision/blob/main/torchvision/models/resnet.py)."
   ]
  }
 ],
 "metadata": {
  "kernelspec": {
   "display_name": "Python 3",
   "language": "python",
   "name": "python3"
  },
  "language_info": {
   "codemirror_mode": {
    "name": "ipython",
    "version": 3
   },
   "file_extension": ".py",
   "mimetype": "text/x-python",
   "name": "python",
   "nbconvert_exporter": "python",
   "pygments_lexer": "ipython3",
   "version": "3.8.5"
  }
 },
 "nbformat": 4,
 "nbformat_minor": 4
}
